{
 "cells": [
  {
   "cell_type": "markdown",
   "id": "0ce0f7a3-5b6e-4f0c-9357-caf16a7f2937",
   "metadata": {},
   "source": [
    "## Regression-4"
   ]
  },
  {
   "cell_type": "markdown",
   "id": "e3a800a3-a806-416b-85b5-c5a3f6e7b6e8",
   "metadata": {},
   "source": [
    "### Assignment Questions"
   ]
  },
  {
   "cell_type": "markdown",
   "id": "cbd4103c-beba-41d1-b180-77cff7ba7a20",
   "metadata": {},
   "source": [
    "Q1. What is Lasso Regression, and how does it differ from other regression techniques?"
   ]
  },
  {
   "cell_type": "markdown",
   "id": "f1cf9887-5a94-43ce-9ea1-c04788996eb6",
   "metadata": {},
   "source": [
    "Lasso regression is a linear regresion echnique that combines regularization and varibles selction . regularizationhelps prevent overfitting by decreasing the magniude of the regression coefficents "
   ]
  },
  {
   "cell_type": "code",
   "execution_count": null,
   "id": "b4c85996-bcb0-4d1f-aad8-0068dd2e945f",
   "metadata": {},
   "outputs": [],
   "source": []
  },
  {
   "cell_type": "markdown",
   "id": "91bb9156-3c8c-4227-87be-36306a201e71",
   "metadata": {},
   "source": [
    "Q2. What is the main advantage of using Lasso Regression in feature selection?"
   ]
  },
  {
   "cell_type": "markdown",
   "id": "b8046d3d-3ca6-4e9c-a82f-a1a8fb927eba",
   "metadata": {},
   "source": [
    "Advantages of LASSO regression\n",
    "The main advantage of a LASSO regression model is that it has the ability to set the coefficients for features it does not consider interesting to zero. This means that the model does some automatic feature selection to decide which features should and should not be included on its own."
   ]
  },
  {
   "cell_type": "code",
   "execution_count": null,
   "id": "c8fbc341-dba0-4498-a49e-57fe76cdf088",
   "metadata": {},
   "outputs": [],
   "source": []
  },
  {
   "cell_type": "markdown",
   "id": "0ce2022b-a597-46d7-98e7-97fa9a0fa11f",
   "metadata": {},
   "source": [
    "Q3. How do you interpret the coefficients of a Lasso Regression model?"
   ]
  },
  {
   "cell_type": "markdown",
   "id": "b153edf3-f0ab-4a39-8071-639e3990d9f4",
   "metadata": {},
   "source": [
    "Lasso regression is some of the coffocemtsd will be set to zero means that the corresponding feature has been excluded from the model. The non-zero coefficients represent the features that are most important for predicting the target variable"
   ]
  },
  {
   "cell_type": "code",
   "execution_count": null,
   "id": "3c69a4fa-aa23-4274-bd93-cdc3d5299a31",
   "metadata": {},
   "outputs": [],
   "source": []
  },
  {
   "cell_type": "markdown",
   "id": "6bd2241f-a9f2-417a-9398-cf611dbe63cc",
   "metadata": {},
   "source": [
    "Q4. What are the tuning parameters that can be adjusted in Lasso Regression, and how do they affect the\n",
    "model's performance?"
   ]
  },
  {
   "cell_type": "markdown",
   "id": "da396438-98ee-4920-92c3-0586ed3b5daf",
   "metadata": {},
   "source": [
    "A tuning parameter (λ), sometimes called a penalty parameter, controls the strength of the penalty term in ridge regression and lasso regression. It is basically the amount of shrinkage, where data values are shrunk towards a central point, like the mean."
   ]
  },
  {
   "cell_type": "code",
   "execution_count": null,
   "id": "8de7edfc-6e48-427a-b7af-eef61beb453d",
   "metadata": {},
   "outputs": [],
   "source": []
  },
  {
   "cell_type": "markdown",
   "id": "9df4e088-cc0b-42f6-8c74-c9154fd589f1",
   "metadata": {},
   "source": [
    "Q5. Can Lasso Regression be used for non-linear regression problems? If yes, how?"
   ]
  },
  {
   "cell_type": "markdown",
   "id": "611b86e5-4661-446e-ac20-47e5c67aca3c",
   "metadata": {},
   "source": [
    "If you can linearize the model, then yes but for an approximate solution in the LS sense since what is measured is y and not any of its possible transforms"
   ]
  },
  {
   "cell_type": "code",
   "execution_count": null,
   "id": "b36477de-9116-4719-8d37-f2ceda04633b",
   "metadata": {},
   "outputs": [],
   "source": []
  },
  {
   "cell_type": "markdown",
   "id": "a5387584-e9b3-4920-845b-436f459bd8d5",
   "metadata": {},
   "source": [
    "Q6. What is the difference between Ridge Regression and Lasso Regression?"
   ]
  },
  {
   "cell_type": "markdown",
   "id": "8c2c0658-9955-4aa2-972f-15059f0d3c9a",
   "metadata": {},
   "source": [
    "The difference between ridge and lasso regression is that it tends to make coefficients to absolute zero as compared to Ridge which never sets the value of coefficient to absolute zero"
   ]
  },
  {
   "cell_type": "code",
   "execution_count": null,
   "id": "8d16babe-73e4-4b14-bd30-22fe521fbb5a",
   "metadata": {},
   "outputs": [],
   "source": []
  },
  {
   "cell_type": "markdown",
   "id": "38eb13dc-5821-45b4-8a2a-b8df0b59366a",
   "metadata": {},
   "source": [
    "Q7. Can Lasso Regression handle multicollinearity in the input features? If yes, how?"
   ]
  },
  {
   "cell_type": "markdown",
   "id": "3870c0f2-5bdb-4fe7-8c2a-7c309f9a80a6",
   "metadata": {},
   "source": [
    " known as Least Absolute Shrinkage and Selection Operator (LASSO) regression, solves the same constrained optimization problem as ridge regression, but uses the L1 norm rather than the L2 norm as a measure of complexity"
   ]
  },
  {
   "cell_type": "code",
   "execution_count": null,
   "id": "b98e5722-6e11-4974-9148-a97821f3d373",
   "metadata": {},
   "outputs": [],
   "source": []
  },
  {
   "cell_type": "markdown",
   "id": "0f046144-c31b-4b89-9416-bcfe547e6e90",
   "metadata": {},
   "source": [
    "Q8. How do you choose the optimal value of the regulariz"
   ]
  },
  {
   "cell_type": "markdown",
   "id": "076ddab9-653a-4bd9-b3e0-9a830e93d052",
   "metadata": {},
   "source": [
    "LASSO regression?\n",
    "The best cross-validation score is obtained for the 0.4 value of lambda. This is your optimal value of lambda. This is how we choose the estimated best model with optimal hyper-parameter values. Use this same process with different types of algorithms like Ridge, LASSO, Elastic-Net, Random Forests, and Boosted trees."
   ]
  },
  {
   "cell_type": "code",
   "execution_count": null,
   "id": "6ea7d267-fdec-4ea7-89bb-d250bc44efa4",
   "metadata": {},
   "outputs": [],
   "source": []
  }
 ],
 "metadata": {
  "kernelspec": {
   "display_name": "Python 3 (ipykernel)",
   "language": "python",
   "name": "python3"
  },
  "language_info": {
   "codemirror_mode": {
    "name": "ipython",
    "version": 3
   },
   "file_extension": ".py",
   "mimetype": "text/x-python",
   "name": "python",
   "nbconvert_exporter": "python",
   "pygments_lexer": "ipython3",
   "version": "3.10.8"
  }
 },
 "nbformat": 4,
 "nbformat_minor": 5
}
